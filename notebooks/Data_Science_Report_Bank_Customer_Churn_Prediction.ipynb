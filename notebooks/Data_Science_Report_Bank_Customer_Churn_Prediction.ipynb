{
  "nbformat": 4,
  "nbformat_minor": 0,
  "metadata": {
    "colab": {
      "provenance": []
    },
    "kernelspec": {
      "name": "python3",
      "display_name": "Python 3"
    },
    "language_info": {
      "name": "python"
    }
  },
  "cells": [
    {
      "cell_type": "markdown",
      "source": [
        "# Data Science Report: Predicting Bank Customer Churn\n",
        "\n",
        "---\n",
        "\n"
      ],
      "metadata": {
        "id": "NXQEbo1voObA"
      }
    },
    {
      "cell_type": "markdown",
      "source": [
        "## Introduction\n",
        "\n",
        "This project seeks to develop and evaluate a machine learning pipeline to predict bank customer churn (likelihood they will leave the bank) using demographic, behavioral, and financial data.\n",
        "\n",
        "The workflow integrates:\n",
        "\n",
        "**Python + Jupyter Notebook**: Data preparation, model training, and evaluation.\n",
        "\n",
        "**XGBoost pipeline**: Optimized for classification on tabular data.\n",
        "\n",
        "**Power BI**: Interactive dashboards for business stakeholders.\n",
        "\n",
        "**Final CSV Export**: Predictions with churn probabilities for each customer across a test segment and the full data set.\n",
        "\n",
        "\n",
        "#### **Objective**:\n",
        "\n",
        "Identify high-risk churn customers.\n",
        "\n",
        "Understand segment-level drivers of churn.\n",
        "\n",
        "Provide actionable insights for retention strategies."
      ],
      "metadata": {
        "id": "YKBCUwVOoWKY"
      }
    },
    {
      "cell_type": "markdown",
      "source": [
        "# Dataset Overview\n",
        "\n",
        "**Source**:\n",
        "This data was obtained using the following Kaggle dataset:\n",
        "https://www.kaggle.com/datasets/radheshyamkollipara/bank-customer-churn/data\n",
        "\n",
        "**Rows**: 10,000 customers.\n",
        "\n",
        "**Final columns exported (post-model)**:\n",
        "\n",
        "\n",
        "*   CustomerId: unique identifier\n",
        "*   Exited: actual churn (0 = stayed, 1 = churned)\n",
        "*   pred_churn: model-predicted churn (binary)\n",
        "*   pred_prob_churn: churn probability (0–1)\n",
        "*   AgeRange, SalaryRange, TenureBand: engineered categorical bins for business-friendly analysis\n",
        "*   Additional features: Geography, Gender, IsActiveMember, CreditScore, Balance, Card Type, etc.\n",
        "\n",
        "The churn rate in the dataset is ~20.4%, making this a moderately imbalanced classification problem."
      ],
      "metadata": {
        "id": "dYlKPMkepB6b"
      }
    },
    {
      "cell_type": "markdown",
      "source": [
        "# Bank Customer Churn Prediction – Final Report\n",
        "\n",
        "## 1. Project Overview\n",
        "Customer churn is one of the most significant challenges for financial institutions. Retaining existing customers is far less costly than acquiring new ones, so accurately predicting churn enables proactive retention strategies.  \n",
        "\n",
        "This project:\n",
        "- Explored and preprocessed the Bank Churn Dataset (Kaggle).  \n",
        "- Built an XGBoost classifier to predict churn.  \n",
        "- Evaluated performance using a holdout test set.  \n",
        "- Generated enriched prediction outputs with demographic and financial segmentation.  \n",
        "- Designed a Power BI dashboard for interactive business analysis.\n",
        "\n",
        "This notebook and dashboard demonstrate a full ML-to-business workflow: from raw data, to model, to business insights."
      ],
      "metadata": {
        "id": "YLZbVTv3E55c"
      }
    },
    {
      "cell_type": "markdown",
      "source": [
        "## 2. Data Preparation\n",
        "- **Dropped irrelevant IDs**: `RowNumber`, `CustomerId`, `Surname`.  \n",
        "- **Removed leakage-prone features**: e.g., `Complain` (too predictive of churn because it likely occurs *after* dissatisfaction).  \n",
        "- **Categorical Encoding**: OneHotEncoder for `Geography`, `Gender`, `Card Type`.  \n",
        "- **Feature Scaling**: StandardScaler applied to numeric features.  \n",
        "- **Feature Engineering**:\n",
        "  - **AgeRange**: Customers grouped into quartiles (e.g., `21–32`, `33–41`, etc.).  \n",
        "  - **SalaryRange**: Customers grouped into quartiles with currency formatting.  \n",
        "  - **Sort Order Codes** added for clean Power BI visual sorting.  "
      ],
      "metadata": {
        "id": "ngErJBRaFdF0"
      }
    },
    {
      "cell_type": "markdown",
      "source": [
        "## 3. Model Training\n",
        "An **XGBoost classifier** was trained with log-loss evaluation, stratified 80/20 train–test split, and reproducible random seeds.  \n",
        "\n",
        "**Why XGBoost?**\n",
        "- Handles categorical and numeric mixes well.  \n",
        "- Regularization reduces overfitting.  \n",
        "- Interpretable feature importance and probability outputs."
      ],
      "metadata": {
        "id": "iJ3I3W-IFd2b"
      }
    },
    {
      "cell_type": "markdown",
      "source": [
        "## 4. Test Set Evaluation (Unbiased Performance)\n",
        "\n",
        "Using the 20% holdout test set (`test_set_predictions.csv`):  \n",
        "\n",
        "| Metric      | Class 0 (Stayed) | Class 1 (Churned) | Overall |\n",
        "|-------------|------------------|-------------------|---------|\n",
        "| Precision   | 0.88             | 0.64              | —       |\n",
        "| Recall      | 0.94             | 0.82              | —       |\n",
        "| F1-score    | 0.91             | 0.72              | —       |\n",
        "| Accuracy    | —                | —                 | **0.86** |\n",
        "| ROC AUC     | —                | —                 | **0.87** |\n"
      ],
      "metadata": {
        "id": "CmnLZT2QFnex"
      }
    },
    {
      "cell_type": "markdown",
      "source": [
        "**Confusion Matrix (Test Set)**:\n",
        "\n",
        "| Result      | Pred 0 | Pred 1 |\n",
        "|-------------|--------|--------|\n",
        "|Actual 0(No) | 7023   | 939    |\n",
        "|Actual 1(Yes)| 371    | 1666   |\n",
        "\n",
        "\n",
        "\n",
        "**Interpretation**:\n",
        "- The model achieves high recall (82%) for churners, catching most customers likely to leave.  \n",
        "- Precision (64%) suggests some false positives, but this is acceptable if retention actions are less costly than customer loss.  \n",
        "- ROC AUC near .85 confirms the model is ranking churn probabilities very effectively.  "
      ],
      "metadata": {
        "id": "xReHk3EeFrUL"
      }
    },
    {
      "cell_type": "markdown",
      "source": [
        "## 5. Full Dataset Predictions (For Business Analysis)\n",
        "\n",
        "Pipeline retrained on the **full dataset** and exported enriched predictions (`churn_predictions.csv`), including:  \n",
        "- Customer ID (for lookup).  \n",
        "- Predicted churn probability (`pred_prob_churn`).  \n",
        "- Predicted churn label (`pred_churn`).  \n",
        "- Age and Salary ranges with sortable ordering.  \n",
        "\n",
        "These predictions fuel the **Power BI dashboard**, where business stakeholders can explore:  \n",
        "- Churn distribution by Age & Salary segments  \n",
        "- Geographic churn patterns\n",
        "- Effect of customer activity"
      ],
      "metadata": {
        "id": "f4odfUsKIhWG"
      }
    },
    {
      "cell_type": "markdown",
      "source": [
        "## 6. Key Business Insights\n",
        "- **Older customers** show higher churn rates across all income groups.\n",
        "  - May need targeted engagement strategies.  \n",
        "- **Inactive members** have elevated churn risk.\n",
        "  - Retention could focus on re-engagement campaigns.  \n",
        "- **Geography differences** show higher levels of churn in Germany across all groups.\n",
        "  - suggest branch-level or regional initiatives in Germany could reduce attrition.  \n",
        "- **Women** show higher churn rates across the board.\n",
        "  - Suggests targeted engagement and retention strategies may be needed.  \n"
      ],
      "metadata": {
        "id": "e2_6-GVBIj9C"
      }
    },
    {
      "cell_type": "markdown",
      "source": [
        "## 7. Next Steps\n",
        "- **Hyperparameter Tuning**: Use GridSearchCV for optimal XGBoost parameters.  \n",
        "- **Calibration**:\n",
        "  - Apply Platt scaling (transform outputs into probability distributions) or isotonic regression (finding the best fitting curve for a data set as long as that line does not fluctuate) to better align predicted probabilities with actual churn likelihood.\n",
        "  - Use PowerBi's ability to create thresholds and allow users to tune the model based on them.\n",
        "    - These techniques would allow a user, in say a marketing team, to adjust the model to provide predictions on the exact value they are searching for.\n",
        "      - i.e. if they wanted a 10% churn rate, they could adjust the model to find a parameter that might give them those results.\n",
        "- **Deployment**: Expose the trained pipeline as an API or batch job for integration with CRM systems.  "
      ],
      "metadata": {
        "id": "siz9Ck-wLO7l"
      }
    },
    {
      "cell_type": "code",
      "source": [],
      "metadata": {
        "id": "3ez_gK7l5IVJ"
      },
      "execution_count": null,
      "outputs": []
    }
  ]
}
